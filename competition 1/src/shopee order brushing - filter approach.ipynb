{
 "cells": [
  {
   "cell_type": "code",
   "execution_count": 93,
   "metadata": {
    "_kg_hide-input": false,
    "scrolled": true,
    "slideshow": {
     "slide_type": "-"
    }
   },
   "outputs": [],
   "source": [
    "import numpy as np \n",
    "import pandas as pd \n",
    "from datetime import datetime\n",
    "from datetime import timedelta\n",
    "import datetime as dt\n",
    "import os"
   ]
  },
  {
   "cell_type": "code",
   "execution_count": 94,
   "metadata": {
    "_kg_hide-input": false,
    "scrolled": true,
    "slideshow": {
     "slide_type": "-"
    }
   },
   "outputs": [],
   "source": [
    "file = 'order_brush_order.csv'\n",
    "df = pd.read_csv(file)\n",
    "df = df.sort_values('orderid')\n",
    "#need to set index to datetime obj to bucket by time\n",
    "df[\"event_time\"] = pd.to_datetime(df['event_time'])\n",
    "df = df.set_index(pd.DatetimeIndex(df['event_time'])).drop('event_time', axis=1).sort_index()"
   ]
  },
  {
   "cell_type": "code",
   "execution_count": 95,
   "metadata": {
    "_kg_hide-input": false,
    "scrolled": true,
    "slideshow": {
     "slide_type": "-"
    }
   },
   "outputs": [],
   "source": [
    "MAGIC_NUMBER = 3.0"
   ]
  },
  {
   "cell_type": "code",
   "execution_count": 96,
   "metadata": {
    "_kg_hide-input": false,
    "scrolled": true,
    "slideshow": {
     "slide_type": "-"
    }
   },
   "outputs": [],
   "source": [
    "# return unique shoplist\n",
    "def get_shop_list(full_data): \n",
    "    shop_list = full_data['shopid']\n",
    "    shop_list = pd.Series(shop_list.unique())\n",
    "    return shop_list"
   ]
  },
  {
   "cell_type": "code",
   "execution_count": 97,
   "metadata": {
    "_kg_hide-input": false,
    "scrolled": true,
    "slideshow": {
     "slide_type": "-"
    }
   },
   "outputs": [],
   "source": [
    "# return dictionary for shopid\n",
    "def get_shop_dict(data, shopid_in):\n",
    "    shop_dict = data[(data['shopid'] == shopid_in)]\n",
    "    return shop_dict"
   ]
  },
  {
   "cell_type": "code",
   "execution_count": 98,
   "metadata": {
    "_kg_hide-input": false,
    "scrolled": true,
    "slideshow": {
     "slide_type": "-"
    }
   },
   "outputs": [],
   "source": [
    "# return hour chunk from starttime. \n",
    "# if less than MAGIC_NUMBER return same dict cause it ain't brushing\n",
    "def get_hr_dict(shop_dict_in, starttime):\n",
    "    if len(shop_dict_in) < MAGIC_NUMBER:\n",
    "        return shop_dict_in\n",
    "    hr_dict = shop_dict_in\n",
    "    #selection by timedate range\n",
    "    start = datetime.fromisoformat(starttime)\n",
    "    end = start + timedelta(hours=1)\n",
    "    return hr_dict[start.isoformat():end.isoformat()]"
   ]
  },
  {
   "cell_type": "code",
   "execution_count": 99,
   "metadata": {
    "_kg_hide-input": false,
    "scrolled": true,
    "slideshow": {
     "slide_type": "-"
    }
   },
   "outputs": [],
   "source": [
    "# return concentration rate\n",
    "def get_concentration_rate(hr_window):\n",
    "    rate = 0.0\n",
    "    users = hr_window['userid']\n",
    "    rate = len(hr_window.index)/len(list(set(users)))\n",
    "    return rate"
   ]
  },
  {
   "cell_type": "code",
   "execution_count": 100,
   "metadata": {
    "_kg_hide-input": false,
    "scrolled": true,
    "slideshow": {
     "slide_type": "-"
    }
   },
   "outputs": [],
   "source": [
    "# return string concat with & from given array\n",
    "def concat_userid(data):\n",
    "    if len(data) <= 0:\n",
    "        return \"0\"\n",
    "    result = '&'.join(str(x) for x in data)\n",
    "    data\n",
    "    return result"
   ]
  },
  {
   "cell_type": "code",
   "execution_count": 101,
   "metadata": {
    "_kg_hide-input": false,
    "scrolled": true,
    "slideshow": {
     "slide_type": "-"
    }
   },
   "outputs": [],
   "source": [
    "# return string of userid(s) during brushing or empty array if no brushing\n",
    "def get_order_brush_userids(shopid_dict):\n",
    "    userids = []\n",
    "    if len(shopid_dict) < MAGIC_NUMBER:\n",
    "        return concat_userid(userids)\n",
    "    for i in shopid_dict.index:\n",
    "        starttime = i.isoformat()\n",
    "        this_hr = get_hr_dict(shopid_dict,starttime)\n",
    "        endtime = this_hr.index[len(this_hr.index)-1].isoformat()\n",
    "        #if not brushing go to next \n",
    "        if get_concentration_rate(this_hr) < MAGIC_NUMBER:\n",
    "            continue\n",
    "        these_users = this_hr['userid']\n",
    "        user_counts = these_users.value_counts()\n",
    "        #add userids with highest count. more than one only if tied.\n",
    "        userids.extend(user_counts[user_counts==user_counts.max()].index.tolist())\n",
    "    userids = np.unique(userids)\n",
    "    return concat_userid(userids)"
   ]
  },
  {
   "cell_type": "code",
   "execution_count": 102,
   "metadata": {
    "_kg_hide-input": false,
    "scrolled": true,
    "slideshow": {
     "slide_type": "-"
    }
   },
   "outputs": [],
   "source": [
    "# unique shopid list loop through and get dict for each shopid\n",
    "shopid_list = get_shop_list(df)\n",
    "brush_userids = []\n",
    "for i in shopid_list:\n",
    "    this_shop_dict = get_shop_dict(df,i)\n",
    "    brush_userids.append(get_order_brush_userids(this_shop_dict))\n",
    "    \n",
    "submission = pd.DataFrame({'shopid': shopid_list, 'userid': brush_userids})\n",
    "submission_sorted = submission.sort_values('userid')\n",
    "submission_sorted.to_csv(\"submission.csv\", index=False)\n",
    "# order brushing shops should be 315?"
   ]
  }
 ],
 "metadata": {
  "kernelspec": {
   "display_name": "Python 3",
   "language": "python",
   "name": "python3"
  },
  "language_info": {
   "codemirror_mode": {
    "name": "ipython",
    "version": 3
   },
   "file_extension": ".py",
   "mimetype": "text/x-python",
   "name": "python",
   "nbconvert_exporter": "python",
   "pygments_lexer": "ipython3",
   "version": "3.8.3"
  }
 },
 "nbformat": 4,
 "nbformat_minor": 4
}
